{
 "cells": [
  {
   "cell_type": "code",
   "execution_count": 33,
   "metadata": {},
   "outputs": [
    {
     "name": "stdout",
     "output_type": "stream",
     "text": [
      "Starting from scratch\n",
      "Rollout Start\n",
      "Testing Models\n",
      "Model not Found\n",
      "Training\n",
      "16384\n",
      "Model not Found\n",
      "Frames: [16384/200000000]\n",
      "Time to end: 65.46\n",
      "Saving\n",
      "Traceback (most recent call last):\n",
      "  File \"/home/luke/.local/lib/python3.6/site-packages/torch/serialization.py\", line 328, in save\n",
      "    _legacy_save(obj, opened_file, pickle_module, pickle_protocol)\n",
      "  File \"/home/luke/.local/lib/python3.6/site-packages/torch/serialization.py\", line 401, in _legacy_save\n",
      "    pickler.dump(obj)\n",
      "OSError: [Errno 28] No space left on device\n",
      "\n",
      "During handling of the above exception, another exception occurred:\n",
      "\n",
      "Traceback (most recent call last):\n",
      "  File \"PPO_procgen.py\", line 55, in <module>\n",
      "    train_p = ppo_trainer.train_model(l)\n",
      "  File \"/home/luke/PPO_procgen/PPO_Trainer.py\", line 267, in train_model\n",
      "    self.save_checkpoint()\n",
      "  File \"/home/luke/PPO_procgen/PPO_Trainer.py\", line 81, in save_checkpoint\n",
      "    }, self.save_path)\n",
      "  File \"/home/luke/.local/lib/python3.6/site-packages/torch/serialization.py\", line 328, in save\n",
      "    _legacy_save(obj, opened_file, pickle_module, pickle_protocol)\n",
      "  File \"/home/luke/.local/lib/python3.6/site-packages/torch/serialization.py\", line 196, in __exit__\n",
      "    self.file_like.close()\n",
      "OSError: [Errno 28] No space left on device\n",
      "^C\n",
      "Error in atexit._run_exitfuncs:\n",
      "Traceback (most recent call last):\n",
      "  File \"/usr/lib/python3.6/multiprocessing/popen_fork.py\", line 29, in poll\n",
      "    pid, sts = os.waitpid(self.pid, flag)\n",
      "KeyboardInterrupt\n",
      "Process Process-2:\n",
      "Traceback (most recent call last):\n",
      "  File \"/home/luke/PPO_procgen/PPO_Tester.py\", line 41, in load_checkpoint\n",
      "    check_point = torch.load(self.save_path)\n",
      "  File \"/home/luke/.local/lib/python3.6/site-packages/torch/serialization.py\", line 526, in load\n",
      "    if _is_zipfile(opened_file):\n",
      "  File \"/home/luke/.local/lib/python3.6/site-packages/torch/serialization.py\", line 76, in _is_zipfile\n",
      "    if ord(magic_byte) != ord(read_byte):\n",
      "TypeError: ord() expected a character, but string of length 0 found\n",
      "\n",
      "During handling of the above exception, another exception occurred:\n",
      "\n",
      "Traceback (most recent call last):\n",
      "  File \"/home/luke/PPO_procgen/PPO_Tester.py\", line 77, in test_model\n",
      "    self.load_checkpoint()\n",
      "  File \"/home/luke/PPO_procgen/PPO_Tester.py\", line 48, in load_checkpoint\n",
      "    time.sleep(0.01)\n",
      "KeyboardInterrupt\n",
      "\n",
      "During handling of the above exception, another exception occurred:\n",
      "\n",
      "Traceback (most recent call last):\n",
      "  File \"/usr/lib/python3.6/multiprocessing/process.py\", line 258, in _bootstrap\n",
      "    self.run()\n",
      "  File \"/usr/lib/python3.6/multiprocessing/process.py\", line 93, in run\n",
      "    self._target(*self._args, **self._kwargs)\n",
      "  File \"/home/luke/PPO_procgen/PPO_Tester.py\", line 77, in test_model\n",
      "    self.load_checkpoint()\n",
      "  File \"/usr/lib/python3.6/multiprocessing/managers.py\", line 993, in __exit__\n",
      "    return self._callmethod('release')\n",
      "  File \"/usr/lib/python3.6/multiprocessing/managers.py\", line 756, in _callmethod\n",
      "    conn.send((self._id, methodname, args, kwds))\n",
      "  File \"/usr/lib/python3.6/multiprocessing/connection.py\", line 206, in send\n",
      "    self._send_bytes(_ForkingPickler.dumps(obj))\n",
      "  File \"/usr/lib/python3.6/multiprocessing/connection.py\", line 404, in _send_bytes\n",
      "    self._send(header + buf)\n",
      "  File \"/usr/lib/python3.6/multiprocessing/connection.py\", line 368, in _send\n",
      "    n = write(self._handle, buf)\n",
      "BrokenPipeError: [Errno 32] Broken pipe\n"
     ]
    }
   ],
   "source": [
    "!python3 PPO_procgen.py --gpu 4"
   ]
  },
  {
   "cell_type": "code",
   "execution_count": null,
   "metadata": {},
   "outputs": [],
   "source": []
  }
 ],
 "metadata": {
  "kernelspec": {
   "display_name": "Python 3",
   "language": "python",
   "name": "python3"
  },
  "language_info": {
   "codemirror_mode": {
    "name": "ipython",
    "version": 3
   },
   "file_extension": ".py",
   "mimetype": "text/x-python",
   "name": "python",
   "nbconvert_exporter": "python",
   "pygments_lexer": "ipython3",
   "version": "3.6.3"
  }
 },
 "nbformat": 4,
 "nbformat_minor": 2
}
